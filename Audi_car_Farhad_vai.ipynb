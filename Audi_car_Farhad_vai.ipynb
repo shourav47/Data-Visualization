{
  "nbformat": 4,
  "nbformat_minor": 0,
  "metadata": {
    "colab": {
      "name": "Audi_car_Farhad_vai.ipynb",
      "provenance": [],
      "collapsed_sections": []
    },
    "kernelspec": {
      "display_name": "Python 3",
      "name": "python3"
    },
    "language_info": {
      "name": "python"
    }
  },
  "cells": [
    {
      "cell_type": "markdown",
      "source": [
        "[Cheat_sheet_for_colab_tricks](https://colab.research.google.com/github/Tanu-N-Prabhu/Python/blob/master/Cheat_sheet_for_Google_Colab.ipynb)"
      ],
      "metadata": {
        "id": "-TlvEuDFtPae"
      }
    },
    {
      "cell_type": "markdown",
      "metadata": {
        "id": "q2CxDsKsstzR"
      },
      "source": [
        "# MOUNTING THE DRIVE"
      ]
    },
    {
      "cell_type": "code",
      "metadata": {
        "colab": {
          "base_uri": "https://localhost:8080/"
        },
        "id": "GN3095qLjJmH",
        "outputId": "1512536b-599d-4626-90b5-77696f6bed72"
      },
      "source": [
        "from google.colab import drive\n",
        "drive._mount('/content/drive')"
      ],
      "execution_count": 1,
      "outputs": [
        {
          "output_type": "stream",
          "name": "stdout",
          "text": [
            "Mounted at /content/drive\n"
          ]
        }
      ]
    },
    {
      "cell_type": "markdown",
      "metadata": {
        "id": "-CDwGTarzTJI"
      },
      "source": [
        "# Importing the Libraries"
      ]
    },
    {
      "cell_type": "code",
      "metadata": {
        "id": "BwPLoAiUzSvb"
      },
      "source": [
        "import pandas as pd\n",
        "import numpy as np\n",
        "import matplotlib.pyplot as plt\n",
        "import seaborn as sns"
      ],
      "execution_count": 2,
      "outputs": []
    },
    {
      "cell_type": "markdown",
      "metadata": {
        "id": "EmbuEUq5zyXU"
      },
      "source": [
        "#Reading the dataset\n",
        "1.  display(df)  ***showing the dataframe with good format with table***\n",
        "2.  print(df)  ***print dile dataframe table akare ase nah*** \n",
        "3.  display(df.head(5))  ***first 5 ta show kore & by default 5 ta***\n",
        "4.  display(df.tail())  ***last 5 column show***\n",
        "5.  display(df.iloc[100:105])  ***printing the specific column***\n",
        "6.  for iloc documentation :[link text](https://pandas.pydata.org/docs/reference/api/pandas.DataFrame.iloc.html)\n",
        "7.  print(df.info())     ***print info about dataset.Show which column is \n",
        "     object(sting) or which column is int or float.***  \n",
        "8.  print(df.isnull().sum())   ***showing the all null value in terms of columns.***\n",
        "9.  print(\"datashape:\",df.shape)  ***show all col & row no. in short.***\n",
        "10. display(df.describe())   ***show the std,mean,quartile,max min*** \n",
        "11. for std,quartile,mean documentation: [link text](https://tidsskriftet.no/en/2020/06/medisin-og-tall/mean-and-standard-deviation-or-median-and-quartiles)"
      ]
    },
    {
      "cell_type": "code",
      "metadata": {
        "colab": {
          "base_uri": "https://localhost:8080/",
          "height": 941
        },
        "id": "RdH5I8mqz4ay",
        "outputId": "0e6eb2d4-ec60-460d-f8d6-c7546d6478a4"
      },
      "source": [
        "df = pd.read_csv(\"/content/drive/MyDrive/dataset/audi.csv\")\n",
        "#display(df) \n",
        "#print(df) \n",
        "display(df.head(5))\n",
        "#display(df.tail()) \n",
        "#display(df.iloc[100:105])\n",
        "print(df.info())\n",
        "print(df.isnull().sum())\n",
        "print(\"datashape:\",df.shape)\n",
        "display(df.describe())"
      ],
      "execution_count": 3,
      "outputs": [
        {
          "output_type": "display_data",
          "data": {
            "text/html": [
              "<div>\n",
              "<style scoped>\n",
              "    .dataframe tbody tr th:only-of-type {\n",
              "        vertical-align: middle;\n",
              "    }\n",
              "\n",
              "    .dataframe tbody tr th {\n",
              "        vertical-align: top;\n",
              "    }\n",
              "\n",
              "    .dataframe thead th {\n",
              "        text-align: right;\n",
              "    }\n",
              "</style>\n",
              "<table border=\"1\" class=\"dataframe\">\n",
              "  <thead>\n",
              "    <tr style=\"text-align: right;\">\n",
              "      <th></th>\n",
              "      <th>model</th>\n",
              "      <th>year</th>\n",
              "      <th>price</th>\n",
              "      <th>transmission</th>\n",
              "      <th>mileage</th>\n",
              "      <th>fuelType</th>\n",
              "      <th>mpg</th>\n",
              "      <th>engineSize</th>\n",
              "    </tr>\n",
              "  </thead>\n",
              "  <tbody>\n",
              "    <tr>\n",
              "      <th>0</th>\n",
              "      <td>A1</td>\n",
              "      <td>2017</td>\n",
              "      <td>12500</td>\n",
              "      <td>Manual</td>\n",
              "      <td>15735</td>\n",
              "      <td>Petrol</td>\n",
              "      <td>55.4</td>\n",
              "      <td>1.4</td>\n",
              "    </tr>\n",
              "    <tr>\n",
              "      <th>1</th>\n",
              "      <td>A6</td>\n",
              "      <td>2016</td>\n",
              "      <td>16500</td>\n",
              "      <td>Automatic</td>\n",
              "      <td>36203</td>\n",
              "      <td>Diesel</td>\n",
              "      <td>64.2</td>\n",
              "      <td>2.0</td>\n",
              "    </tr>\n",
              "    <tr>\n",
              "      <th>2</th>\n",
              "      <td>A1</td>\n",
              "      <td>2016</td>\n",
              "      <td>11000</td>\n",
              "      <td>Manual</td>\n",
              "      <td>29946</td>\n",
              "      <td>Petrol</td>\n",
              "      <td>55.4</td>\n",
              "      <td>1.4</td>\n",
              "    </tr>\n",
              "    <tr>\n",
              "      <th>3</th>\n",
              "      <td>A4</td>\n",
              "      <td>2017</td>\n",
              "      <td>16800</td>\n",
              "      <td>Automatic</td>\n",
              "      <td>25952</td>\n",
              "      <td>Diesel</td>\n",
              "      <td>67.3</td>\n",
              "      <td>2.0</td>\n",
              "    </tr>\n",
              "    <tr>\n",
              "      <th>4</th>\n",
              "      <td>A3</td>\n",
              "      <td>2019</td>\n",
              "      <td>17300</td>\n",
              "      <td>Manual</td>\n",
              "      <td>1998</td>\n",
              "      <td>Petrol</td>\n",
              "      <td>49.6</td>\n",
              "      <td>1.0</td>\n",
              "    </tr>\n",
              "  </tbody>\n",
              "</table>\n",
              "</div>"
            ],
            "text/plain": [
              "  model  year  price transmission  mileage fuelType   mpg  engineSize\n",
              "0    A1  2017  12500       Manual    15735   Petrol  55.4         1.4\n",
              "1    A6  2016  16500    Automatic    36203   Diesel  64.2         2.0\n",
              "2    A1  2016  11000       Manual    29946   Petrol  55.4         1.4\n",
              "3    A4  2017  16800    Automatic    25952   Diesel  67.3         2.0\n",
              "4    A3  2019  17300       Manual     1998   Petrol  49.6         1.0"
            ]
          },
          "metadata": {}
        },
        {
          "output_type": "stream",
          "name": "stdout",
          "text": [
            "<class 'pandas.core.frame.DataFrame'>\n",
            "RangeIndex: 10668 entries, 0 to 10667\n",
            "Data columns (total 8 columns):\n",
            " #   Column        Non-Null Count  Dtype  \n",
            "---  ------        --------------  -----  \n",
            " 0   model         10668 non-null  object \n",
            " 1   year          10668 non-null  int64  \n",
            " 2   price         10668 non-null  int64  \n",
            " 3   transmission  10668 non-null  object \n",
            " 4   mileage       10668 non-null  int64  \n",
            " 5   fuelType      10668 non-null  object \n",
            " 6   mpg           10668 non-null  float64\n",
            " 7   engineSize    10668 non-null  float64\n",
            "dtypes: float64(2), int64(3), object(3)\n",
            "memory usage: 666.9+ KB\n",
            "None\n",
            "model           0\n",
            "year            0\n",
            "price           0\n",
            "transmission    0\n",
            "mileage         0\n",
            "fuelType        0\n",
            "mpg             0\n",
            "engineSize      0\n",
            "dtype: int64\n",
            "datashape: (10668, 8)\n"
          ]
        },
        {
          "output_type": "display_data",
          "data": {
            "text/html": [
              "<div>\n",
              "<style scoped>\n",
              "    .dataframe tbody tr th:only-of-type {\n",
              "        vertical-align: middle;\n",
              "    }\n",
              "\n",
              "    .dataframe tbody tr th {\n",
              "        vertical-align: top;\n",
              "    }\n",
              "\n",
              "    .dataframe thead th {\n",
              "        text-align: right;\n",
              "    }\n",
              "</style>\n",
              "<table border=\"1\" class=\"dataframe\">\n",
              "  <thead>\n",
              "    <tr style=\"text-align: right;\">\n",
              "      <th></th>\n",
              "      <th>year</th>\n",
              "      <th>price</th>\n",
              "      <th>mileage</th>\n",
              "      <th>mpg</th>\n",
              "      <th>engineSize</th>\n",
              "    </tr>\n",
              "  </thead>\n",
              "  <tbody>\n",
              "    <tr>\n",
              "      <th>count</th>\n",
              "      <td>10668.000000</td>\n",
              "      <td>10668.000000</td>\n",
              "      <td>10668.000000</td>\n",
              "      <td>10668.000000</td>\n",
              "      <td>10668.000000</td>\n",
              "    </tr>\n",
              "    <tr>\n",
              "      <th>mean</th>\n",
              "      <td>2017.100675</td>\n",
              "      <td>22896.685039</td>\n",
              "      <td>24827.244001</td>\n",
              "      <td>50.770022</td>\n",
              "      <td>1.930709</td>\n",
              "    </tr>\n",
              "    <tr>\n",
              "      <th>std</th>\n",
              "      <td>2.167494</td>\n",
              "      <td>11714.841888</td>\n",
              "      <td>23505.257205</td>\n",
              "      <td>12.949782</td>\n",
              "      <td>0.602957</td>\n",
              "    </tr>\n",
              "    <tr>\n",
              "      <th>min</th>\n",
              "      <td>1997.000000</td>\n",
              "      <td>1490.000000</td>\n",
              "      <td>1.000000</td>\n",
              "      <td>18.900000</td>\n",
              "      <td>0.000000</td>\n",
              "    </tr>\n",
              "    <tr>\n",
              "      <th>25%</th>\n",
              "      <td>2016.000000</td>\n",
              "      <td>15130.750000</td>\n",
              "      <td>5968.750000</td>\n",
              "      <td>40.900000</td>\n",
              "      <td>1.500000</td>\n",
              "    </tr>\n",
              "    <tr>\n",
              "      <th>50%</th>\n",
              "      <td>2017.000000</td>\n",
              "      <td>20200.000000</td>\n",
              "      <td>19000.000000</td>\n",
              "      <td>49.600000</td>\n",
              "      <td>2.000000</td>\n",
              "    </tr>\n",
              "    <tr>\n",
              "      <th>75%</th>\n",
              "      <td>2019.000000</td>\n",
              "      <td>27990.000000</td>\n",
              "      <td>36464.500000</td>\n",
              "      <td>58.900000</td>\n",
              "      <td>2.000000</td>\n",
              "    </tr>\n",
              "    <tr>\n",
              "      <th>max</th>\n",
              "      <td>2020.000000</td>\n",
              "      <td>145000.000000</td>\n",
              "      <td>323000.000000</td>\n",
              "      <td>188.300000</td>\n",
              "      <td>6.300000</td>\n",
              "    </tr>\n",
              "  </tbody>\n",
              "</table>\n",
              "</div>"
            ],
            "text/plain": [
              "               year          price        mileage           mpg    engineSize\n",
              "count  10668.000000   10668.000000   10668.000000  10668.000000  10668.000000\n",
              "mean    2017.100675   22896.685039   24827.244001     50.770022      1.930709\n",
              "std        2.167494   11714.841888   23505.257205     12.949782      0.602957\n",
              "min     1997.000000    1490.000000       1.000000     18.900000      0.000000\n",
              "25%     2016.000000   15130.750000    5968.750000     40.900000      1.500000\n",
              "50%     2017.000000   20200.000000   19000.000000     49.600000      2.000000\n",
              "75%     2019.000000   27990.000000   36464.500000     58.900000      2.000000\n",
              "max     2020.000000  145000.000000  323000.000000    188.300000      6.300000"
            ]
          },
          "metadata": {}
        }
      ]
    },
    {
      "cell_type": "markdown",
      "metadata": {
        "id": "GLHa2DWBs-5g"
      },
      "source": [
        "#Printing only all the columns in the dataset"
      ]
    },
    {
      "cell_type": "code",
      "metadata": {
        "colab": {
          "base_uri": "https://localhost:8080/"
        },
        "id": "3l6VLA9Gs_Sf",
        "outputId": "104d76c0-9d49-4f4c-ab3c-dc5ac1b34f9d"
      },
      "source": [
        "print(\"all the columns:\\n\\n\")\n",
        "for col in df.columns:\n",
        "  print(col)"
      ],
      "execution_count": 4,
      "outputs": [
        {
          "output_type": "stream",
          "name": "stdout",
          "text": [
            "all the columns:\n",
            "\n",
            "\n",
            "model\n",
            "year\n",
            "price\n",
            "transmission\n",
            "mileage\n",
            "fuelType\n",
            "mpg\n",
            "engineSize\n"
          ]
        }
      ]
    },
    {
      "cell_type": "markdown",
      "metadata": {
        "id": "0Vx1N78gve47"
      },
      "source": [
        "#Printing all the unique value for a specific columns"
      ]
    },
    {
      "cell_type": "code",
      "metadata": {
        "colab": {
          "base_uri": "https://localhost:8080/",
          "height": 248
        },
        "id": "LSRaTfR6XjW5",
        "outputId": "09e29b29-20c8-40b7-c803-3ff2bf174849"
      },
      "source": [
        "transmissionType_count = df['transmission'].value_counts(normalize = 'true')\n",
        "print(type(transmissionType_count))\n",
        "display(transmissionType_count)\n",
        "transmissionType_count = pd.DataFrame(transmissionType_count)\n",
        "print(type(transmissionType_count))\n",
        "display(transmissionType_count)"
      ],
      "execution_count": 5,
      "outputs": [
        {
          "output_type": "stream",
          "name": "stdout",
          "text": [
            "<class 'pandas.core.series.Series'>\n"
          ]
        },
        {
          "output_type": "display_data",
          "data": {
            "text/plain": [
              "Manual       0.409543\n",
              "Semi-Auto    0.336614\n",
              "Automatic    0.253843\n",
              "Name: transmission, dtype: float64"
            ]
          },
          "metadata": {}
        },
        {
          "output_type": "stream",
          "name": "stdout",
          "text": [
            "<class 'pandas.core.frame.DataFrame'>\n"
          ]
        },
        {
          "output_type": "display_data",
          "data": {
            "text/html": [
              "<div>\n",
              "<style scoped>\n",
              "    .dataframe tbody tr th:only-of-type {\n",
              "        vertical-align: middle;\n",
              "    }\n",
              "\n",
              "    .dataframe tbody tr th {\n",
              "        vertical-align: top;\n",
              "    }\n",
              "\n",
              "    .dataframe thead th {\n",
              "        text-align: right;\n",
              "    }\n",
              "</style>\n",
              "<table border=\"1\" class=\"dataframe\">\n",
              "  <thead>\n",
              "    <tr style=\"text-align: right;\">\n",
              "      <th></th>\n",
              "      <th>transmission</th>\n",
              "    </tr>\n",
              "  </thead>\n",
              "  <tbody>\n",
              "    <tr>\n",
              "      <th>Manual</th>\n",
              "      <td>0.409543</td>\n",
              "    </tr>\n",
              "    <tr>\n",
              "      <th>Semi-Auto</th>\n",
              "      <td>0.336614</td>\n",
              "    </tr>\n",
              "    <tr>\n",
              "      <th>Automatic</th>\n",
              "      <td>0.253843</td>\n",
              "    </tr>\n",
              "  </tbody>\n",
              "</table>\n",
              "</div>"
            ],
            "text/plain": [
              "           transmission\n",
              "Manual         0.409543\n",
              "Semi-Auto      0.336614\n",
              "Automatic      0.253843"
            ]
          },
          "metadata": {}
        }
      ]
    },
    {
      "cell_type": "markdown",
      "metadata": {
        "id": "3cZnwpFTwijz"
      },
      "source": [
        "#Printing the pie chart for 'transmission' column\n",
        "\n",
        "1.  pychart is good only for 2-3 unique value.\n",
        "2. plt.show()  ***remove unwanted text*** "
      ]
    },
    {
      "cell_type": "code",
      "metadata": {
        "colab": {
          "base_uri": "https://localhost:8080/",
          "height": 373
        },
        "id": "kWaWVYYaw6s2",
        "outputId": "8150d0d4-7980-4a75-b8b9-8fa25cb6c6a0"
      },
      "source": [
        "plot = df['transmission'].value_counts(normalize = 'true').plot.pie(subplots=True, figsize=(11, 6), autopct='%1.2f%%', pctdistance=0.6, labeldistance=1.05)\n",
        "plt.title('transmission engine percentage of audi car')\n",
        "plt.show()\n",
        "\n",
        "#this same things can be done in another way\n",
        "# df['transmission'].value_counts(normalize = 'true').plot(kind = 'pie',autopct='%1.2f%%', pctdistance=0.6, labeldistance=1.05,subplots=True, figsize=(11, 6))\n",
        "# plt.title('transmission engine percentage of audi car in another way')\n",
        "# plt.show()"
      ],
      "execution_count": 6,
      "outputs": [
        {
          "output_type": "display_data",
          "data": {
            "image/png": "[encoded data removed]",
            "text/plain": [
              "<Figure size 792x432 with 1 Axes>"
            ]
          },
          "metadata": {}
        }
      ]
    },
    {
      "cell_type": "markdown",
      "metadata": {
        "id": "JyApUZ5oPUlX"
      },
      "source": [
        "# Printing unique values for year"
      ]
    },
    {
      "cell_type": "code",
      "metadata": {
        "colab": {
          "base_uri": "https://localhost:8080/",
          "height": 399
        },
        "id": "RUkdsdogPecV",
        "outputId": "3a16fefe-2537-4a56-97e0-e08fd009e6fd"
      },
      "source": [
        "yearType_count = df['year'].value_counts(normalize = 'true')\n",
        "display(yearType_count)"
      ],
      "execution_count": 7,
      "outputs": [
        {
          "output_type": "display_data",
          "data": {
            "text/plain": [
              "2019    0.299681\n",
              "2016    0.184102\n",
              "2017    0.181384\n",
              "2015    0.093645\n",
              "2018    0.080990\n",
              "2020    0.067117\n",
              "2014    0.041901\n",
              "2013    0.027278\n",
              "2012    0.007968\n",
              "2011    0.004406\n",
              "2010    0.003000\n",
              "2009    0.002156\n",
              "2008    0.001969\n",
              "2007    0.001500\n",
              "2006    0.000844\n",
              "2005    0.000656\n",
              "2003    0.000562\n",
              "2004    0.000469\n",
              "2002    0.000187\n",
              "1997    0.000094\n",
              "1998    0.000094\n",
              "Name: year, dtype: float64"
            ]
          },
          "metadata": {}
        }
      ]
    },
    {
      "cell_type": "markdown",
      "metadata": {
        "id": "gTibvd9d73tw"
      },
      "source": [
        "#Count the no of unique values in fuel type column & rewrite the column name with series to data frame"
      ]
    },
    {
      "cell_type": "code",
      "metadata": {
        "colab": {
          "base_uri": "https://localhost:8080/",
          "height": 339
        },
        "id": "gBbdH11D8MZP",
        "outputId": "8938596d-ebbd-4fc4-f9b0-8b7f06bfe270"
      },
      "source": [
        "fuelType_count = df['fuelType'].value_counts()\n",
        "display(fuelType_count)\n",
        "fuelType_count = pd.DataFrame(fuelType_count)\n",
        "display(fuelType_count)\n",
        "fuelType_count = fuelType_count.reset_index()\n",
        "fuelType_count = fuelType_count.rename(columns={'index':'fuelType','fuelType':'No_of_cars'})\n",
        "fuelType_count['% of cars'] = np.round(((fuelType_count['No_of_cars']/fuelType_count['No_of_cars'].sum())*100), 2)\n",
        "display(fuelType_count)"
      ],
      "execution_count": 8,
      "outputs": [
        {
          "output_type": "display_data",
          "data": {
            "text/plain": [
              "Diesel    5577\n",
              "Petrol    5063\n",
              "Hybrid      28\n",
              "Name: fuelType, dtype: int64"
            ]
          },
          "metadata": {}
        },
        {
          "output_type": "display_data",
          "data": {
            "text/html": [
              "<div>\n",
              "<style scoped>\n",
              "    .dataframe tbody tr th:only-of-type {\n",
              "        vertical-align: middle;\n",
              "    }\n",
              "\n",
              "    .dataframe tbody tr th {\n",
              "        vertical-align: top;\n",
              "    }\n",
              "\n",
              "    .dataframe thead th {\n",
              "        text-align: right;\n",
              "    }\n",
              "</style>\n",
              "<table border=\"1\" class=\"dataframe\">\n",
              "  <thead>\n",
              "    <tr style=\"text-align: right;\">\n",
              "      <th></th>\n",
              "      <th>fuelType</th>\n",
              "    </tr>\n",
              "  </thead>\n",
              "  <tbody>\n",
              "    <tr>\n",
              "      <th>Diesel</th>\n",
              "      <td>5577</td>\n",
              "    </tr>\n",
              "    <tr>\n",
              "      <th>Petrol</th>\n",
              "      <td>5063</td>\n",
              "    </tr>\n",
              "    <tr>\n",
              "      <th>Hybrid</th>\n",
              "      <td>28</td>\n",
              "    </tr>\n",
              "  </tbody>\n",
              "</table>\n",
              "</div>"
            ],
            "text/plain": [
              "        fuelType\n",
              "Diesel      5577\n",
              "Petrol      5063\n",
              "Hybrid        28"
            ]
          },
          "metadata": {}
        },
        {
          "output_type": "display_data",
          "data": {
            "text/html": [
              "<div>\n",
              "<style scoped>\n",
              "    .dataframe tbody tr th:only-of-type {\n",
              "        vertical-align: middle;\n",
              "    }\n",
              "\n",
              "    .dataframe tbody tr th {\n",
              "        vertical-align: top;\n",
              "    }\n",
              "\n",
              "    .dataframe thead th {\n",
              "        text-align: right;\n",
              "    }\n",
              "</style>\n",
              "<table border=\"1\" class=\"dataframe\">\n",
              "  <thead>\n",
              "    <tr style=\"text-align: right;\">\n",
              "      <th></th>\n",
              "      <th>fuelType</th>\n",
              "      <th>No_of_cars</th>\n",
              "      <th>% of cars</th>\n",
              "    </tr>\n",
              "  </thead>\n",
              "  <tbody>\n",
              "    <tr>\n",
              "      <th>0</th>\n",
              "      <td>Diesel</td>\n",
              "      <td>5577</td>\n",
              "      <td>52.28</td>\n",
              "    </tr>\n",
              "    <tr>\n",
              "      <th>1</th>\n",
              "      <td>Petrol</td>\n",
              "      <td>5063</td>\n",
              "      <td>47.46</td>\n",
              "    </tr>\n",
              "    <tr>\n",
              "      <th>2</th>\n",
              "      <td>Hybrid</td>\n",
              "      <td>28</td>\n",
              "      <td>0.26</td>\n",
              "    </tr>\n",
              "  </tbody>\n",
              "</table>\n",
              "</div>"
            ],
            "text/plain": [
              "  fuelType  No_of_cars  % of cars\n",
              "0   Diesel        5577      52.28\n",
              "1   Petrol        5063      47.46\n",
              "2   Hybrid          28       0.26"
            ]
          },
          "metadata": {}
        }
      ]
    },
    {
      "cell_type": "markdown",
      "metadata": {
        "id": "_rNoBwnL_XoK"
      },
      "source": [
        "#Create a barplot for fuelType columns"
      ]
    },
    {
      "cell_type": "code",
      "metadata": {
        "colab": {
          "base_uri": "https://localhost:8080/",
          "height": 335
        },
        "id": "zED0QtGG_jjQ",
        "outputId": "8794e473-48c1-4b2f-bec9-08b57c065bd9"
      },
      "source": [
        "sns.barplot(x = 'fuelType', y = '% of cars', data = fuelType_count, color='blue', alpha=0.75)\n",
        "plt.title(\"Number of cars present for each fuelType\")\n",
        "plt.xlabel(\"Audi car fuelType\")\n",
        "plt.ylabel(\"percentage of cars\")\n",
        "plt.xticks(rotation=90)\n",
        "plt.yticks(np.arange(0,76,15))\n",
        "plt.figure(figsize=(11,6))\n",
        "plt.show()"
      ],
      "execution_count": 9,
      "outputs": [
        {
          "output_type": "display_data",
          "data": {
            "image/png": "[encoded data removed]",
            "text/plain": [
              "<Figure size 432x288 with 1 Axes>"
            ]
          },
          "metadata": {
            "needs_background": "light"
          }
        },
        {
          "output_type": "display_data",
          "data": {
            "text/plain": [
              "<Figure size 792x432 with 0 Axes>"
            ]
          },
          "metadata": {}
        }
      ]
    },
    {
      "cell_type": "markdown",
      "source": [
        "#Find the percentage of unique values of transmission type column"
      ],
      "metadata": {
        "id": "nhV__REvfc7-"
      }
    },
    {
      "cell_type": "code",
      "source": [
        "transmissionType_count = df['transmission'].value_counts()\n",
        "transmissionType_count = pd.DataFrame(transmissionType_count)\n",
        "transmissionType_count = transmissionType_count.reset_index()\n",
        "transmissionType_count = transmissionType_count.rename(columns={'index':'transmissionType','transmission':'No_of_cars'})\n",
        "transmissionType_count['% of cars'] = np.around(((transmissionType_count['No_of_cars']/transmissionType_count['No_of_cars'].sum())*100),2)\n",
        "display(transmissionType_count)\n"
      ],
      "metadata": {
        "colab": {
          "base_uri": "https://localhost:8080/",
          "height": 143
        },
        "id": "qkhnFNdrfvLC",
        "outputId": "d3416f11-2656-4614-fd1a-44bb852e77af"
      },
      "execution_count": 10,
      "outputs": [
        {
          "output_type": "display_data",
          "data": {
            "text/html": [
              "<div>\n",
              "<style scoped>\n",
              "    .dataframe tbody tr th:only-of-type {\n",
              "        vertical-align: middle;\n",
              "    }\n",
              "\n",
              "    .dataframe tbody tr th {\n",
              "        vertical-align: top;\n",
              "    }\n",
              "\n",
              "    .dataframe thead th {\n",
              "        text-align: right;\n",
              "    }\n",
              "</style>\n",
              "<table border=\"1\" class=\"dataframe\">\n",
              "  <thead>\n",
              "    <tr style=\"text-align: right;\">\n",
              "      <th></th>\n",
              "      <th>transmissionType</th>\n",
              "      <th>No_of_cars</th>\n",
              "      <th>% of cars</th>\n",
              "    </tr>\n",
              "  </thead>\n",
              "  <tbody>\n",
              "    <tr>\n",
              "      <th>0</th>\n",
              "      <td>Manual</td>\n",
              "      <td>4369</td>\n",
              "      <td>40.95</td>\n",
              "    </tr>\n",
              "    <tr>\n",
              "      <th>1</th>\n",
              "      <td>Semi-Auto</td>\n",
              "      <td>3591</td>\n",
              "      <td>33.66</td>\n",
              "    </tr>\n",
              "    <tr>\n",
              "      <th>2</th>\n",
              "      <td>Automatic</td>\n",
              "      <td>2708</td>\n",
              "      <td>25.38</td>\n",
              "    </tr>\n",
              "  </tbody>\n",
              "</table>\n",
              "</div>"
            ],
            "text/plain": [
              "  transmissionType  No_of_cars  % of cars\n",
              "0           Manual        4369      40.95\n",
              "1        Semi-Auto        3591      33.66\n",
              "2        Automatic        2708      25.38"
            ]
          },
          "metadata": {}
        }
      ]
    },
    {
      "cell_type": "markdown",
      "source": [
        "#Create a barplot for transmission type columns"
      ],
      "metadata": {
        "id": "XVsPTUFJluUw"
      }
    },
    {
      "cell_type": "code",
      "source": [
        "sns.barplot(x = 'transmissionType', y = '% of cars', data = transmissionType_count, color = 'blue')\n",
        "plt.title('No of cars presents for each transmission type')\n",
        "plt.xlabel('Audi car transmission type')\n",
        "plt.ylabel('percentage of cars')\n",
        "plt.xticks(rotation = 90)\n",
        "plt.yticks(np.arange(0,60,15))\n",
        "plt.show()"
      ],
      "metadata": {
        "colab": {
          "base_uri": "https://localhost:8080/",
          "height": 337
        },
        "id": "IesxWdBWl5Mh",
        "outputId": "1485ff11-8f25-4b73-a882-e17bfd118167"
      },
      "execution_count": 11,
      "outputs": [
        {
          "output_type": "display_data",
          "data": {
            "image/png": "[encoded data removed]",
            "text/plain": [
              "<Figure size 432x288 with 1 Axes>"
            ]
          },
          "metadata": {
            "needs_background": "light"
          }
        }
      ]
    },
    {
      "cell_type": "markdown",
      "source": [
        "#Find the percentage of unique values of Model types"
      ],
      "metadata": {
        "id": "AJaz1YHdpiFu"
      }
    },
    {
      "cell_type": "code",
      "source": [
        "modelType_count = df['model'].value_counts()\n",
        "modelType_count = pd.DataFrame(modelType_count)\n",
        "modelType_count = modelType_count.reset_index()\n",
        "modelType_count = modelType_count.rename(columns={'index':'modelType','model':'No_of_cars'})\n",
        "modelType_count['% of cars'] = np.around(((modelType_count['No_of_cars']/modelType_count['No_of_cars'].sum())*100),2)\n",
        "display(modelType_count)"
      ],
      "metadata": {
        "colab": {
          "base_uri": "https://localhost:8080/",
          "height": 865
        },
        "id": "yr-iyF-tptkl",
        "outputId": "354044f8-88e6-40e5-865f-eb048338c679"
      },
      "execution_count": 12,
      "outputs": [
        {
          "output_type": "display_data",
          "data": {
            "text/html": [
              "<div>\n",
              "<style scoped>\n",
              "    .dataframe tbody tr th:only-of-type {\n",
              "        vertical-align: middle;\n",
              "    }\n",
              "\n",
              "    .dataframe tbody tr th {\n",
              "        vertical-align: top;\n",
              "    }\n",
              "\n",
              "    .dataframe thead th {\n",
              "        text-align: right;\n",
              "    }\n",
              "</style>\n",
              "<table border=\"1\" class=\"dataframe\">\n",
              "  <thead>\n",
              "    <tr style=\"text-align: right;\">\n",
              "      <th></th>\n",
              "      <th>modelType</th>\n",
              "      <th>No_of_cars</th>\n",
              "      <th>% of cars</th>\n",
              "    </tr>\n",
              "  </thead>\n",
              "  <tbody>\n",
              "    <tr>\n",
              "      <th>0</th>\n",
              "      <td>A3</td>\n",
              "      <td>1929</td>\n",
              "      <td>18.08</td>\n",
              "    </tr>\n",
              "    <tr>\n",
              "      <th>1</th>\n",
              "      <td>Q3</td>\n",
              "      <td>1417</td>\n",
              "      <td>13.28</td>\n",
              "    </tr>\n",
              "    <tr>\n",
              "      <th>2</th>\n",
              "      <td>A4</td>\n",
              "      <td>1381</td>\n",
              "      <td>12.95</td>\n",
              "    </tr>\n",
              "    <tr>\n",
              "      <th>3</th>\n",
              "      <td>A1</td>\n",
              "      <td>1347</td>\n",
              "      <td>12.63</td>\n",
              "    </tr>\n",
              "    <tr>\n",
              "      <th>4</th>\n",
              "      <td>A5</td>\n",
              "      <td>882</td>\n",
              "      <td>8.27</td>\n",
              "    </tr>\n",
              "    <tr>\n",
              "      <th>5</th>\n",
              "      <td>Q5</td>\n",
              "      <td>877</td>\n",
              "      <td>8.22</td>\n",
              "    </tr>\n",
              "    <tr>\n",
              "      <th>6</th>\n",
              "      <td>Q2</td>\n",
              "      <td>822</td>\n",
              "      <td>7.71</td>\n",
              "    </tr>\n",
              "    <tr>\n",
              "      <th>7</th>\n",
              "      <td>A6</td>\n",
              "      <td>748</td>\n",
              "      <td>7.01</td>\n",
              "    </tr>\n",
              "    <tr>\n",
              "      <th>8</th>\n",
              "      <td>Q7</td>\n",
              "      <td>397</td>\n",
              "      <td>3.72</td>\n",
              "    </tr>\n",
              "    <tr>\n",
              "      <th>9</th>\n",
              "      <td>TT</td>\n",
              "      <td>336</td>\n",
              "      <td>3.15</td>\n",
              "    </tr>\n",
              "    <tr>\n",
              "      <th>10</th>\n",
              "      <td>A7</td>\n",
              "      <td>122</td>\n",
              "      <td>1.14</td>\n",
              "    </tr>\n",
              "    <tr>\n",
              "      <th>11</th>\n",
              "      <td>A8</td>\n",
              "      <td>118</td>\n",
              "      <td>1.11</td>\n",
              "    </tr>\n",
              "    <tr>\n",
              "      <th>12</th>\n",
              "      <td>Q8</td>\n",
              "      <td>69</td>\n",
              "      <td>0.65</td>\n",
              "    </tr>\n",
              "    <tr>\n",
              "      <th>13</th>\n",
              "      <td>RS6</td>\n",
              "      <td>39</td>\n",
              "      <td>0.37</td>\n",
              "    </tr>\n",
              "    <tr>\n",
              "      <th>14</th>\n",
              "      <td>RS3</td>\n",
              "      <td>33</td>\n",
              "      <td>0.31</td>\n",
              "    </tr>\n",
              "    <tr>\n",
              "      <th>15</th>\n",
              "      <td>RS4</td>\n",
              "      <td>31</td>\n",
              "      <td>0.29</td>\n",
              "    </tr>\n",
              "    <tr>\n",
              "      <th>16</th>\n",
              "      <td>RS5</td>\n",
              "      <td>29</td>\n",
              "      <td>0.27</td>\n",
              "    </tr>\n",
              "    <tr>\n",
              "      <th>17</th>\n",
              "      <td>R8</td>\n",
              "      <td>28</td>\n",
              "      <td>0.26</td>\n",
              "    </tr>\n",
              "    <tr>\n",
              "      <th>18</th>\n",
              "      <td>S3</td>\n",
              "      <td>18</td>\n",
              "      <td>0.17</td>\n",
              "    </tr>\n",
              "    <tr>\n",
              "      <th>19</th>\n",
              "      <td>SQ5</td>\n",
              "      <td>16</td>\n",
              "      <td>0.15</td>\n",
              "    </tr>\n",
              "    <tr>\n",
              "      <th>20</th>\n",
              "      <td>S4</td>\n",
              "      <td>12</td>\n",
              "      <td>0.11</td>\n",
              "    </tr>\n",
              "    <tr>\n",
              "      <th>21</th>\n",
              "      <td>SQ7</td>\n",
              "      <td>8</td>\n",
              "      <td>0.07</td>\n",
              "    </tr>\n",
              "    <tr>\n",
              "      <th>22</th>\n",
              "      <td>S8</td>\n",
              "      <td>4</td>\n",
              "      <td>0.04</td>\n",
              "    </tr>\n",
              "    <tr>\n",
              "      <th>23</th>\n",
              "      <td>S5</td>\n",
              "      <td>3</td>\n",
              "      <td>0.03</td>\n",
              "    </tr>\n",
              "    <tr>\n",
              "      <th>24</th>\n",
              "      <td>A2</td>\n",
              "      <td>1</td>\n",
              "      <td>0.01</td>\n",
              "    </tr>\n",
              "    <tr>\n",
              "      <th>25</th>\n",
              "      <td>RS7</td>\n",
              "      <td>1</td>\n",
              "      <td>0.01</td>\n",
              "    </tr>\n",
              "  </tbody>\n",
              "</table>\n",
              "</div>"
            ],
            "text/plain": [
              "   modelType  No_of_cars  % of cars\n",
              "0         A3        1929      18.08\n",
              "1         Q3        1417      13.28\n",
              "2         A4        1381      12.95\n",
              "3         A1        1347      12.63\n",
              "4         A5         882       8.27\n",
              "5         Q5         877       8.22\n",
              "6         Q2         822       7.71\n",
              "7         A6         748       7.01\n",
              "8         Q7         397       3.72\n",
              "9         TT         336       3.15\n",
              "10        A7         122       1.14\n",
              "11        A8         118       1.11\n",
              "12        Q8          69       0.65\n",
              "13       RS6          39       0.37\n",
              "14       RS3          33       0.31\n",
              "15       RS4          31       0.29\n",
              "16       RS5          29       0.27\n",
              "17        R8          28       0.26\n",
              "18        S3          18       0.17\n",
              "19       SQ5          16       0.15\n",
              "20        S4          12       0.11\n",
              "21       SQ7           8       0.07\n",
              "22        S8           4       0.04\n",
              "23        S5           3       0.03\n",
              "24        A2           1       0.01\n",
              "25       RS7           1       0.01"
            ]
          },
          "metadata": {}
        }
      ]
    },
    {
      "cell_type": "markdown",
      "source": [
        "#create a barplot for model type of audi car"
      ],
      "metadata": {
        "id": "BhOtaTVs0YFA"
      }
    },
    {
      "cell_type": "code",
      "source": [
        "sns.barplot(x = 'modelType', y = '% of cars', data = modelType_count, color = 'blue', alpha = 0.75)\n",
        "plt.title('No of cars presents for each model type')\n",
        "plt.xlabel('Audi car model type')\n",
        "plt.ylabel('percentage of cars')\n",
        "plt.xticks(rotation = 90)\n",
        "plt.yticks(np.arange(0,25,5).tolist())\n",
        "plt.show()"
      ],
      "metadata": {
        "colab": {
          "base_uri": "https://localhost:8080/",
          "height": 309
        },
        "id": "3EUN_xt70jtz",
        "outputId": "5c7e5fc1-8305-4daf-81b0-2a7f7036005c"
      },
      "execution_count": 13,
      "outputs": [
        {
          "output_type": "display_data",
          "data": {
            "image/png": "[encoded data removed]",
            "text/plain": [
              "<Figure size 432x288 with 1 Axes>"
            ]
          },
          "metadata": {
            "needs_background": "light"
          }
        }
      ]
    },
    {
      "cell_type": "markdown",
      "source": [
        "#Plotting the barplot side by side"
      ],
      "metadata": {
        "id": "LwxsDxI_1Nsa"
      }
    },
    {
      "cell_type": "code",
      "source": [
        "sns.set_context('paper')\n",
        "plt.figure(figsize=(15,5))\n",
        "plt.subplot(1,3,1)\n",
        "sns.barplot(x = 'fuelType', y = '% of cars', data = fuelType_count, color='blue', alpha=0.75)\n",
        "plt.title(\"Number of cars present for each fuelType\")\n",
        "plt.xlabel(\"Audi car fuelType\")\n",
        "plt.ylabel(\"percentage of cars\")\n",
        "plt.xticks(rotation=90)\n",
        "plt.yticks(np.arange(0,101,10).tolist())\n",
        "\n",
        "\n",
        "plt.subplot(1,3,2)\n",
        "sns.barplot(x = 'transmissionType', y = '% of cars', data = transmissionType_count, color = 'orange')\n",
        "plt.title('No of cars presents for each transmission type')\n",
        "plt.xlabel('Audi car transmission type')\n",
        "plt.ylabel('percentage of cars')\n",
        "plt.xticks(rotation = 90)\n",
        "plt.yticks(np.arange(0,101,10).tolist())\n",
        "\n",
        "plt.subplot(1,3,3)\n",
        "sns.barplot(x = 'modelType', y = '% of cars', data = modelType_count, color = 'green')\n",
        "plt.title('No of cars presents for each model type')\n",
        "plt.xlabel('Audi car model type')\n",
        "plt.ylabel('percentage of cars')\n",
        "plt.xticks(rotation = 90)\n",
        "plt.yticks(np.arange(0,101,10).tolist())\n",
        "\n",
        "plt.suptitle(\"Categorical variables in the Audi used cars dataset\", y =1.08) #y =1.08 is used to set the position\n",
        "plt.tight_layout()\n",
        "plt.show()"
      ],
      "metadata": {
        "colab": {
          "base_uri": "https://localhost:8080/",
          "height": 409
        },
        "id": "K7PNOo9i1Wl9",
        "outputId": "d228b418-2575-476d-e3d3-d72225f2a044"
      },
      "execution_count": 14,
      "outputs": [
        {
          "output_type": "display_data",
          "data": {
            "image/png": "[encoded data removed]",
            "text/plain": [
              "<Figure size 1080x360 with 3 Axes>"
            ]
          },
          "metadata": {
            "needs_background": "light"
          }
        }
      ]
    },
    {
      "cell_type": "markdown",
      "source": [
        "#Create a function to print a no of unique values in a column of a audi car dataframe"
      ],
      "metadata": {
        "id": "Z2M0ppJM7PB7"
      }
    },
    {
      "cell_type": "code",
      "source": [
        "def unique_val(data,column):\n",
        "  unique_value = data[column].value_counts()\n",
        "  unique_value = pd.DataFrame(unique_value)\n",
        "  unique_value = unique_value.reset_index()\n",
        "  unique_value = unique_value.rename(columns={'index':column, column:'No_of_cars'})\n",
        "  unique_value['% of cars'] = np.around(((unique_value['No_of_cars']/unique_value['No_of_cars'].sum())*100),2)\n",
        "  return unique_value"
      ],
      "metadata": {
        "id": "1TJLcbOK7m8J"
      },
      "execution_count": 15,
      "outputs": []
    },
    {
      "cell_type": "code",
      "source": [
        "model_count = unique_val(df,'model')\n",
        "year_count = unique_val(df,'year')\n",
        "transmission_count = unique_val(df,'transmission')\n",
        "fuel_count = unique_val(df,'fuelType')\n",
        "engineSize_count = unique_val(df,'engineSize')"
      ],
      "metadata": {
        "id": "82hLYXdm-S1j"
      },
      "execution_count": 16,
      "outputs": []
    },
    {
      "cell_type": "markdown",
      "source": [
        "# Create a function for barplot of audi car"
      ],
      "metadata": {
        "id": "kLEV1NK6Bjia"
      }
    },
    {
      "cell_type": "code",
      "source": [
        "\n",
        "def bar_plot(DATA,types,yticks,color,rot):\n",
        "  sns.barplot(x = types, y ='% of cars', data= DATA, color= color, alpha = 0.75)\n",
        "  plt.title('No of cars present in each '+ types +' type')\n",
        "  plt.xlabel('Audi car ' + types + ' counts')\n",
        "  plt.ylabel('percentage of cars')\n",
        "  plt.xticks(rotation = rot)\n",
        "  plt.yticks(yticks)\n",
        "\n"
      ],
      "metadata": {
        "id": "32lZRXx0BsBS"
      },
      "execution_count": 17,
      "outputs": []
    },
    {
      "cell_type": "code",
      "source": [
        "sns.set_context('paper')\n",
        "plt.figure(figsize=(10,5))\n",
        "plt.subplot(2,2,1)\n",
        "bar_plot(model_count,'model',np.arange(0,25,5),'orange',45)\n",
        "plt.figure(figsize=(10,5))\n",
        "plt.subplot(2,2,2)\n",
        "bar_plot(year_count,'year', np.arange(0,70,10),'blue',90)\n",
        "plt.figure(figsize=(10,5))\n",
        "plt.subplot(2,2,3)\n",
        "bar_plot(transmission_count,'transmission', np.arange(0,70,10),'blue',90)\n",
        "plt.figure(figsize=(10,5))\n",
        "plt.subplot(2,2,4)\n",
        "bar_plot(fuelType_count,'fuelType', np.arange(0,70,10),'blue',90)\n",
        "# plt.subplot(2,2,4)\n",
        "# bar_plot(engineSize_count,'engineSize', np.arange(0,70,10),'blue',90)\n",
        "\n",
        "# keep the individual plots separate from each other\n",
        "plt.tight_layout()\n",
        "\n",
        "plt.show()\n"
      ],
      "metadata": {
        "colab": {
          "base_uri": "https://localhost:8080/",
          "height": 838
        },
        "id": "RvWcMNA-FTix",
        "outputId": "a81d8460-4711-4523-b02d-e70933370674"
      },
      "execution_count": 18,
      "outputs": [
        {
          "output_type": "display_data",
          "data": {
            "image/png": "[encoded data removed]",
            "text/plain": [
              "<Figure size 720x360 with 1 Axes>"
            ]
          },
          "metadata": {
            "needs_background": "light"
          }
        },
        {
          "output_type": "display_data",
          "data": {
            "image/png": "[encoded data removed]",
            "text/plain": [
              "<Figure size 720x360 with 1 Axes>"
            ]
          },
          "metadata": {
            "needs_background": "light"
          }
        },
        {
          "output_type": "display_data",
          "data": {
            "image/png": "[encoded data removed]",
            "text/plain": [
              "<Figure size 720x360 with 1 Axes>"
            ]
          },
          "metadata": {
            "needs_background": "light"
          }
        },
        {
          "output_type": "display_data",
          "data": {
            "image/png": "[encoded data removed]",
            "text/plain": [
              "<Figure size 720x360 with 1 Axes>"
            ]
          },
          "metadata": {
            "needs_background": "light"
          }
        }
      ]
    },
    {
      "cell_type": "code",
      "source": [
        ""
      ],
      "metadata": {
        "id": "o3gi8b12YKF5"
      },
      "execution_count": 18,
      "outputs": []
    }
  ]
}